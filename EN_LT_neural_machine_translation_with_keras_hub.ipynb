{
  "cells": [
    {
      "cell_type": "markdown",
      "metadata": {
        "id": "view-in-github",
        "colab_type": "text"
      },
      "source": [
        "<a href=\"https://colab.research.google.com/github/RokelisK123/1labor/blob/main/EN_LT_neural_machine_translation_with_keras_hub.ipynb\" target=\"_parent\"><img src=\"https://colab.research.google.com/assets/colab-badge.svg\" alt=\"Open In Colab\"/></a>"
      ]
    },
    {
      "cell_type": "markdown",
      "metadata": {
        "id": "Yv6kZYfetPVK"
      },
      "source": [
        "# English-to-Lithuanian translation with KerasHub\n",
        "\n",
        "**Author:** [Algirdas Laukaitis](https://github.com/aalgirdas/)<br>\n",
        "**Date created:** 2024/05/26<br>\n",
        "**Last modified:** 2024/10/30<br>\n",
        "**Description:** Use KerasHub to train a sequence-to-sequence Transformer model on the machine translation task."
      ]
    },
    {
      "cell_type": "code",
      "source": [
        "#@title Imports\n",
        "\n",
        "#from google.colab import files\n",
        "#import pandas as pd\n",
        "#import urllib.request\n",
        "\n",
        "\n"
      ],
      "metadata": {
        "id": "DlqUbdXngh-Y"
      },
      "execution_count": null,
      "outputs": []
    },
    {
      "cell_type": "code",
      "source": [
        "import numpy as np\n",
        "import random\n",
        "import io\n",
        "import requests\n",
        "import zipfile\n",
        "import os\n",
        "import os.path\n",
        "import re\n",
        "from google.colab.data_table import DataTable\n",
        "DataTable.max_columns = 50\n"
      ],
      "metadata": {
        "id": "bfI4dqLxkEkG"
      },
      "execution_count": null,
      "outputs": []
    },
    {
      "cell_type": "markdown",
      "metadata": {
        "id": "mU5HAAaetPVN"
      },
      "source": [
        "## Downloading the data\n",
        "\n",
        "We'll be working with an English-to-Spanish translation dataset\n",
        "provided by [Anki](https://www.manythings.org/anki/). Let's download it:"
      ]
    },
    {
      "cell_type": "code",
      "source": [
        "!wget -N -O lit-eng.zip https://www.manythings.org/anki/lit-eng.zip\n",
        "\n",
        "!unzip -o lit-eng.zip\n",
        "\n",
        "text_file = \"lit.txt\""
      ],
      "metadata": {
        "id": "egHsqIHrua56",
        "outputId": "1b863c5b-5c4e-4a66-edcb-e6d4ac6d224b",
        "colab": {
          "base_uri": "https://localhost:8080/"
        }
      },
      "execution_count": null,
      "outputs": [
        {
          "output_type": "stream",
          "name": "stdout",
          "text": [
            "WARNING: timestamping does nothing in combination with -O. See the manual\n",
            "for details.\n",
            "\n",
            "--2024-11-07 12:48:06--  https://www.manythings.org/anki/lit-eng.zip\n",
            "Resolving www.manythings.org (www.manythings.org)... 173.254.30.110\n",
            "Connecting to www.manythings.org (www.manythings.org)|173.254.30.110|:443... connected.\n",
            "HTTP request sent, awaiting response... 200 OK\n",
            "Length: 83056 (81K) [application/zip]\n",
            "Saving to: ‘lit-eng.zip’\n",
            "\n",
            "\rlit-eng.zip           0%[                    ]       0  --.-KB/s               \rlit-eng.zip         100%[===================>]  81.11K  --.-KB/s    in 0.03s   \n",
            "\n",
            "2024-11-07 12:48:06 (2.46 MB/s) - ‘lit-eng.zip’ saved [83056/83056]\n",
            "\n",
            "Archive:  lit-eng.zip\n",
            "  inflating: _about.txt              \n",
            "  inflating: lit.txt                 \n"
          ]
        }
      ]
    },
    {
      "cell_type": "code",
      "source": [
        "output_dir = '/content'\n",
        "os.makedirs(output_dir, exist_ok=True)\n",
        "\n",
        "zip_path = '/content/tempfile.zip'\n",
        "response = requests.get('https://object.pouta.csc.fi/OPUS-OpenSubtitles/v2018/moses/en-lt.txt.zip')\n",
        "#response = requests.get('https://object.pouta.csc.fi/OPUS-TildeMODEL/v2018/moses/en-lt.txt.zip')\n",
        "\n",
        "with open(zip_path, 'wb') as file:\n",
        "    file.write(response.content)\n",
        "\n",
        "with zipfile.ZipFile(zip_path, 'r') as zip_ref:\n",
        "    zip_ref.extractall(output_dir)\n",
        "\n",
        "#os.remove(zip_path)\n",
        "\n",
        "print(f\"Files extracted to {output_dir}\")\n",
        "\n"
      ],
      "metadata": {
        "colab": {
          "base_uri": "https://localhost:8080/"
        },
        "id": "TrnZZpyGgaqZ",
        "outputId": "86d53eb9-cf5a-4d30-def4-681854d217a2"
      },
      "execution_count": null,
      "outputs": [
        {
          "output_type": "stream",
          "name": "stdout",
          "text": [
            "Files extracted to /content\n"
          ]
        }
      ]
    },
    {
      "cell_type": "markdown",
      "metadata": {
        "id": "YWsHeXsktPVN"
      },
      "source": [
        "## Parsing the data\n",
        "\n",
        "Each line contains an English sentence and its corresponding Spanish sentence.\n",
        "The English sentence is the *source sequence* and Spanish one is the *target sequence*.\n",
        "Before adding the text to a list, we convert it to lowercase."
      ]
    },
    {
      "cell_type": "code",
      "execution_count": null,
      "metadata": {
        "id": "Wy48ydjntPVO",
        "colab": {
          "base_uri": "https://localhost:8080/"
        },
        "outputId": "8ec35a41-ee33-41c9-be22-5ec4a801b7a9"
      },
      "outputs": [
        {
          "output_type": "stream",
          "name": "stdout",
          "text": [
            "  2211  translated examples. For example, example 111 (\"i'm a loser.\", 'aš nevykėlė.')\n"
          ]
        }
      ],
      "source": [
        "alphabet_en = \"abcdefghijklmnopqrstuvwxyz.,? '\"\n",
        "alphabet_lt = 'aąbcčdeęėfghiįyjklmnoprsštuųūvzž.,? '\n",
        "\n",
        "with open(text_file) as f:\n",
        "    lines = f.read().split(\"\\n\")[:-1]\n",
        "text_pairs = []\n",
        "for line in lines:\n",
        "    eng, lit, _ = line.split(\"\\t\")\n",
        "    eng = eng.lower() ; eng = re.sub(r\"[^\" + alphabet_en + \"]\", \" \", eng) ; eng = re.sub(r'\\s+', ' ', eng)\n",
        "    lit = lit.lower() ; lit = re.sub(r\"[^\" + alphabet_lt + \"]\", \" \", lit) ; lit = re.sub(r'\\s+', ' ', lit)\n",
        "    text_pairs.append((eng, lit))\n",
        "\n",
        "print(f'{len(text_pairs):>6}  translated examples. For example, example 111 {text_pairs[111]}')"
      ]
    },
    {
      "cell_type": "code",
      "source": [
        "# Some entries, such as 11111, come with bad LT encoding.\n",
        "'''\n",
        "with open('/content/OpenSubtitles.en-lt.en', 'r', encoding='utf-8') as file1, open('/content/OpenSubtitles.en-lt.lt', 'r', encoding='utf-8') as file2:\n",
        "  for index,(line1, line2) in  enumerate(zip(file1, file2)):\n",
        "\n",
        "    eng = line1.strip()\n",
        "    lit = line2.strip()\n",
        "    eng = eng.lower() ; eng = re.sub(r\"[^\" + alphabet_en + \"]\", \" \", eng) ; eng = re.sub(r'\\s+', ' ', eng)\n",
        "    lit = lit.lower() ; lit = re.sub(r\"[^\" + alphabet_lt + \"]\", \" \", lit) ; lit = re.sub(r'\\s+', ' ', lit)\n",
        "\n",
        "    text_pairs.append((eng, lit))\n",
        "\n",
        "    #if index > 200000:\n",
        "    #  break\n",
        "\n",
        "print(f'{len(text_pairs):>6}  translated examples. For example, example 11111 {text_pairs[11111]}')\n",
        "\n",
        "'''"
      ],
      "metadata": {
        "id": "LKaRmx2WllBd",
        "colab": {
          "base_uri": "https://localhost:8080/",
          "height": 192
        },
        "outputId": "41f88f30-8472-44ca-e040-ada695a7d6b6"
      },
      "execution_count": null,
      "outputs": [
        {
          "output_type": "execute_result",
          "data": {
            "text/plain": [
              "'\\nwith open(\\'/content/OpenSubtitles.en-lt.en\\', \\'r\\', encoding=\\'utf-8\\') as file1, open(\\'/content/OpenSubtitles.en-lt.lt\\', \\'r\\', encoding=\\'utf-8\\') as file2:\\n  for index,(line1, line2) in  enumerate(zip(file1, file2)):\\n\\n    eng = line1.strip()\\n    lit = line2.strip()\\n    eng = eng.lower() ; eng = re.sub(r\"[^\" + alphabet_en + \"]\", \" \", eng) ; eng = re.sub(r\\'\\\\s+\\', \\' \\', eng)\\n    lit = lit.lower() ; lit = re.sub(r\"[^\" + alphabet_lt + \"]\", \" \", lit) ; lit = re.sub(r\\'\\\\s+\\', \\' \\', lit)\\n\\n    text_pairs.append((eng, lit))\\n\\n    #if index > 200000:\\n    #  break\\n\\nprint(f\\'{len(text_pairs):>6}  translated examples. For example, example 11111 {text_pairs[11111]}\\')\\n\\n'"
            ],
            "application/vnd.google.colaboratory.intrinsic+json": {
              "type": "string"
            }
          },
          "metadata": {},
          "execution_count": 6
        }
      ]
    },
    {
      "cell_type": "markdown",
      "metadata": {
        "id": "dOVnOsRutPVO"
      },
      "source": [
        "Here's what our sentence pairs look like:"
      ]
    },
    {
      "cell_type": "code",
      "source": [
        "# Some entries, such as 11111, come with bad LT encoding.\n",
        "text_pairs[2211  -3 :2211  +3 ] + text_pairs[11111-3 :11111+3 ] + text_pairs[21111-3 :21111+3 ]\n"
      ],
      "metadata": {
        "colab": {
          "base_uri": "https://localhost:8080/"
        },
        "id": "CyjpO99URWyI",
        "outputId": "a4b59004-d561-46a6-cf4a-ee2e8806d3c1"
      },
      "execution_count": null,
      "outputs": [
        {
          "output_type": "execute_result",
          "data": {
            "text/plain": [
              "[(\"happiness depends, not so much on circumstances, as on one's way of looking at one's life.\",\n",
              "  'laimė priklauso ne tiek nuo išorinių aplinkybių, kiek nuo mūsų požiūrio į gyvenimą.'),\n",
              " (\"before i get out of bed, i spend a little time thinking about what i'll be doing the rest of the day.\",\n",
              "  'prieš atsikeldamas iš lovos, aš praleidžiu kažkiek laiko galvodamas apie tai, ką veiksiu likusią dienos dalį.'),\n",
              " ('january, february, march, april, may, june, july, august, september, october, november and december are the twelve months of the year.',\n",
              "  'metus sudaro dvylika mėnesių sausis, vasaris, kovas, balandis, gegužė, birželis, liepa, rugpjūtis, rugsėjis, spalis, lapkritis ir gruodis.')]"
            ]
          },
          "metadata": {},
          "execution_count": 7
        }
      ]
    },
    {
      "cell_type": "code",
      "execution_count": null,
      "metadata": {
        "id": "KuwQaFDytPVO",
        "outputId": "390c685a-c758-486b-e65a-a8bde9e39d22",
        "colab": {
          "base_uri": "https://localhost:8080/"
        }
      },
      "outputs": [
        {
          "output_type": "stream",
          "name": "stdout",
          "text": [
            "('tom answered back.', 'tomas atsakė.')\n",
            "('his pace quickened.', 'jo žingsniai pagreitėjo.')\n",
            "('will you warm up the soup?', 'ar gali pašildyti sriubą?')\n",
            "('their flag is blue and gold.', 'jų vėliava yra mėlynai auksinė.')\n",
            "(\"what's your skype username?\", 'koks tavo skaipo adresas?')\n"
          ]
        }
      ],
      "source": [
        "for _ in range(5):\n",
        "    print(random.choice(text_pairs))"
      ]
    },
    {
      "cell_type": "markdown",
      "metadata": {
        "id": "iGPNH2grtPVO"
      },
      "source": [
        "Now, let's split the sentence pairs into a training set, a validation set,\n",
        "and a test set."
      ]
    },
    {
      "cell_type": "code",
      "execution_count": null,
      "metadata": {
        "id": "WscnHzVKtPVO",
        "outputId": "9ca1eab5-bb94-40bd-9462-a6852d296b57",
        "colab": {
          "base_uri": "https://localhost:8080/"
        }
      },
      "outputs": [
        {
          "output_type": "stream",
          "name": "stdout",
          "text": [
            "2211 total pairs\n",
            "1549 training pairs\n",
            "331 validation pairs\n",
            "331 test pairs\n"
          ]
        }
      ],
      "source": [
        "random.shuffle(text_pairs)\n",
        "num_val_samples = int(0.15 * len(text_pairs))\n",
        "num_train_samples = len(text_pairs) - 2 * num_val_samples\n",
        "train_pairs = text_pairs[:num_train_samples]\n",
        "val_pairs = text_pairs[num_train_samples : num_train_samples + num_val_samples]\n",
        "test_pairs = text_pairs[num_train_samples + num_val_samples :]\n",
        "\n",
        "print(f\"{len(text_pairs)} total pairs\")\n",
        "print(f\"{len(train_pairs)} training pairs\")\n",
        "print(f\"{len(val_pairs)} validation pairs\")\n",
        "print(f\"{len(test_pairs)} test pairs\")\n"
      ]
    },
    {
      "cell_type": "markdown",
      "metadata": {
        "id": "VVc02w1stPVL"
      },
      "source": [
        "## Setup\n",
        "\n",
        "Before we start implementing the pipeline, let's import all the libraries we need."
      ]
    },
    {
      "cell_type": "code",
      "execution_count": null,
      "metadata": {
        "id": "kluFTSNatPVM",
        "colab": {
          "base_uri": "https://localhost:8080/"
        },
        "outputId": "83e191ae-e229-45ff-f448-785a0d83c812"
      },
      "outputs": [
        {
          "output_type": "stream",
          "name": "stdout",
          "text": [
            "  Preparing metadata (setup.py) ... \u001b[?25l\u001b[?25hdone\n",
            "  Building wheel for rouge-score (setup.py) ... \u001b[?25l\u001b[?25hdone\n",
            "\u001b[2K   \u001b[90m━━━━━━━━━━━━━━━━━━━━━━━━━━━━━━━━━━━━━━━━\u001b[0m \u001b[32m644.1/644.1 kB\u001b[0m \u001b[31m8.2 MB/s\u001b[0m eta \u001b[36m0:00:00\u001b[0m\n",
            "\u001b[2K   \u001b[90m━━━━━━━━━━━━━━━━━━━━━━━━━━━━━━━━━━━━━━━━\u001b[0m \u001b[32m5.2/5.2 MB\u001b[0m \u001b[31m67.6 MB/s\u001b[0m eta \u001b[36m0:00:00\u001b[0m\n",
            "\u001b[2K   \u001b[90m━━━━━━━━━━━━━━━━━━━━━━━━━━━━━━━━━━━━━━━━\u001b[0m \u001b[32m615.3/615.3 MB\u001b[0m \u001b[31m2.9 MB/s\u001b[0m eta \u001b[36m0:00:00\u001b[0m\n",
            "\u001b[2K   \u001b[90m━━━━━━━━━━━━━━━━━━━━━━━━━━━━━━━━━━━━━━━━\u001b[0m \u001b[32m1.2/1.2 MB\u001b[0m \u001b[31m15.3 MB/s\u001b[0m eta \u001b[36m0:00:00\u001b[0m\n",
            "\u001b[2K   \u001b[90m━━━━━━━━━━━━━━━━━━━━━━━━━━━━━━━━━━━━━━━━\u001b[0m \u001b[32m5.5/5.5 MB\u001b[0m \u001b[31m69.3 MB/s\u001b[0m eta \u001b[36m0:00:00\u001b[0m\n",
            "\u001b[?25h\u001b[31mERROR: pip's dependency resolver does not currently take into account all the packages that are installed. This behaviour is the source of the following dependency conflicts.\n",
            "tf-keras 2.17.0 requires tensorflow<2.18,>=2.17, but you have tensorflow 2.18.0 which is incompatible.\u001b[0m\u001b[31m\n",
            "\u001b[0m"
          ]
        }
      ],
      "source": [
        "!pip install -q --upgrade rouge-score\n",
        "!pip install -q --upgrade keras-hub\n",
        "!pip install -q --upgrade keras"
      ]
    },
    {
      "cell_type": "code",
      "execution_count": null,
      "metadata": {
        "id": "jKMcSEDetPVM"
      },
      "outputs": [],
      "source": [
        "import keras_hub\n",
        "import pathlib\n",
        "import random\n",
        "\n",
        "import keras\n",
        "from keras import ops\n",
        "\n",
        "import tensorflow.data as tf_data\n",
        "##from tensorflow_text.tools.wordpiece_vocab import (  bert_vocab_from_dataset as bert_vocab,)\n"
      ]
    },
    {
      "cell_type": "markdown",
      "metadata": {
        "id": "obC_KiPqtPVM"
      },
      "source": [
        "Let's also define our parameters/hyperparameters."
      ]
    },
    {
      "cell_type": "code",
      "execution_count": null,
      "metadata": {
        "id": "m0_UfTV-tPVM"
      },
      "outputs": [],
      "source": [
        "BATCH_SIZE = 64\n",
        "EPOCHS = 1  # This should be at least 10 for convergence\n",
        "MAX_SEQUENCE_LENGTH = 40\n",
        "ENG_VOCAB_SIZE = 15000\n",
        "SPA_VOCAB_SIZE = 15000\n",
        "\n",
        "EMBED_DIM = 256\n",
        "INTERMEDIATE_DIM = 2048\n",
        "NUM_HEADS = 8"
      ]
    },
    {
      "cell_type": "markdown",
      "metadata": {
        "id": "oc2rr5qKtPVO"
      },
      "source": [
        "## Tokenizing the data\n",
        "\n",
        "We'll define two tokenizers - one for the source language (English), and the other\n",
        "for the target language (Spanish). We'll be using\n",
        "`keras_hub.tokenizers.WordPieceTokenizer` to tokenize the text.\n",
        "`keras_hub.tokenizers.WordPieceTokenizer` takes a WordPiece vocabulary\n",
        "and has functions for tokenizing the text, and detokenizing sequences of tokens.\n",
        "\n",
        "Before we define the two tokenizers, we first need to train them on the dataset\n",
        "we have. The WordPiece tokenization algorithm is a subword tokenization algorithm;\n",
        "training it on a corpus gives us a vocabulary of subwords. A subword tokenizer\n",
        "is a compromise between word tokenizers (word tokenizers need very large\n",
        "vocabularies for good coverage of input words), and character tokenizers\n",
        "(characters don't really encode meaning like words do). Luckily, KerasHub\n",
        "makes it very simple to train WordPiece on a corpus with the\n",
        "`keras_hub.tokenizers.compute_word_piece_vocabulary` utility."
      ]
    },
    {
      "cell_type": "code",
      "execution_count": null,
      "metadata": {
        "id": "6ZIjXPICtPVO"
      },
      "outputs": [],
      "source": [
        "\n",
        "def train_word_piece(text_samples, vocab_size, reserved_tokens):\n",
        "    word_piece_ds = tf_data.Dataset.from_tensor_slices(text_samples)\n",
        "    vocab = keras_hub.tokenizers.compute_word_piece_vocabulary(\n",
        "        word_piece_ds.batch(1000).prefetch(2),\n",
        "        vocabulary_size=vocab_size,\n",
        "        reserved_tokens=reserved_tokens,\n",
        "    )\n",
        "    return vocab\n"
      ]
    },
    {
      "cell_type": "markdown",
      "metadata": {
        "id": "E24lufGDtPVP"
      },
      "source": [
        "Every vocabulary has a few special, reserved tokens. We have four such tokens:\n",
        "\n",
        "- `\"[PAD]\"` - Padding token. Padding tokens are appended to the input sequence\n",
        "length when the input sequence length is shorter than the maximum sequence length.\n",
        "- `\"[UNK]\"` - Unknown token.\n",
        "- `\"[START]\"` - Token that marks the start of the input sequence.\n",
        "- `\"[END]\"` - Token that marks the end of the input sequence."
      ]
    },
    {
      "cell_type": "code",
      "execution_count": null,
      "metadata": {
        "id": "RfpfmTHqtPVP",
        "colab": {
          "base_uri": "https://localhost:8080/"
        },
        "outputId": "6cd337c1-cbd6-46ae-fcac-a42e22718266"
      },
      "outputs": [
        {
          "output_type": "stream",
          "name": "stdout",
          "text": [
            "Vocab does not exist.\n"
          ]
        }
      ],
      "source": [
        "\n",
        "if os.path.exists('eng_vocab.txt'):\n",
        "    with open('eng_vocab.txt', 'r') as file:\n",
        "        eng_vocab = [line.strip() for line in file]\n",
        "    with open('spa_vocab.txt', 'r') as file:\n",
        "        spa_vocab = [line.strip() for line in file]\n",
        "\n",
        "    eng_vocab = list(set(eng_vocab))\n",
        "    spa_vocab = list(set(spa_vocab))\n",
        "    print(f\" vocab: { len(eng_vocab)}  { len(spa_vocab)} \")\n",
        "else:\n",
        "    print(\"Vocab does not exist.\")\n",
        "\n",
        "\n",
        "    reserved_tokens = [\"[PAD]\", \"[UNK]\", \"[START]\", \"[END]\"]\n",
        "\n",
        "    eng_samples = [text_pair[0] for text_pair in train_pairs]\n",
        "    eng_vocab = train_word_piece(eng_samples, ENG_VOCAB_SIZE, reserved_tokens)\n",
        "\n",
        "    spa_samples = [text_pair[1] for text_pair in train_pairs]\n",
        "    spa_vocab = train_word_piece(spa_samples, SPA_VOCAB_SIZE, reserved_tokens)\n",
        "\n",
        "\n",
        "    with open('eng_vocab.txt', 'w') as file:\n",
        "        for item in eng_vocab:\n",
        "            file.write(f\"{item}\\n\")\n",
        "\n",
        "    with open('spa_vocab.txt', 'w') as file:\n",
        "        for item in spa_vocab:\n",
        "            file.write(f\"{item}\\n\")"
      ]
    },
    {
      "cell_type": "markdown",
      "metadata": {
        "id": "7caLz-45tPVP"
      },
      "source": [
        "Let's see some tokens!"
      ]
    },
    {
      "cell_type": "code",
      "execution_count": null,
      "metadata": {
        "id": "h8LqkJVMtPVP",
        "outputId": "6f43fe87-a59d-4b79-e9c5-79808444d391",
        "colab": {
          "base_uri": "https://localhost:8080/"
        }
      },
      "outputs": [
        {
          "output_type": "stream",
          "name": "stdout",
          "text": [
            "English Tokens:  ['[PAD]', '[UNK]', '[START]', '[END]', \"'\", ',', '.', '?', 'a', 'b', 'c', 'd', 'e', 'f', 'g', 'h', 'i', 'j', 'k', 'l', 'm', 'n', 'o', 'p', 'q', 'r', 's', 't', 'u', 'v', 'w', 'x', 'y', 'z', 'the', 'you', 'to', '##s', 'tom', 'is', '##ing', 'in', '##y', 'he', 'it', '##d', 'that', '##er', 'do', 'can', 'this', 'have', '##e', '##ed', 'my', '##t', 'of', 'was', 'don', 'me', 'we', 'are', 'what', '##n', 'be', 'not', '##ly', 'for', 'she', '##en', 'want', '##k', 'like', 'your', 'on', '##r', 'did', 're', 'they', 'with', '##ce', '##on', 'how', 'there', '##p', 'know', 'very', 'will', '##m', '##ight', '##st', 'as', 'has', 'her', '##ry', 'him', 'his', 'll', '##ay', '##le', 'up', '##ion', '##ive', 'and', 'go', '##an', '##o', '##ow', '##one', 'about', 'all', 'at', 've', '##at', 'an', 'one', 'who', '##ake', '##al', '##ate', '##et', 'mary', '##g', '##ld', '##ss', 'than', 'where', '##ar', '##ould', 'by', 'never', 'see', '##ge', '##ong', '##ot', '##ut', '##ver', 'back', '##ch', '##ll', '##nt', 'am', 'here', 'if', 'live', 'time', 'today', '##ain', '##ally', '##ite', 'didn', 'doesn', '##ind', '##nd', '##or', '##ost', 'but', 'from', 'us', 'were', '##ad', '##ame', '##dy', '##ful', '##ied', '##ir', '##ore', '##ue', 'come', 'get', 'going', 'just', 'much', 'no', 'now', 'please', 'think', 'why', 'work', '##a', '##es', '##ife', '##ist', '##me', '##ning', '##se', '##ted', '##ter', '##w', 'home', 'money', 'people', 'too', '##able', '##and', '##ave', '##ess', '##id', '##ie', '##king', '##other', '##th', 'came', 'good', 'more', 'need', 'stay', 'understand', '##alk', '##day', '##f', '##ish', '##l', '##leep', '##ree', '##ure', '##wn', 'always', 'day', 'french', 'isn', 'love', 'when', '##age', '##ast', '##b', '##gh', '##ich', '##ies', '##ired', '##ned', '##ts', 'anything', 'asked', 'busy', 'our', 'room', 'said', 'something', 'tell', '##ather', '##ble', '##ea', '##it', '##ought', '##ouldn', '##self', '##use', 'been', 'believe', 'care', 'had', 'japan', 'look', 'many', 'new', 'nobody', 'so', 'stop', 'sure', 'wanted', '##all', '##ck', '##ek', '##el', '##ft', '##iving', '##lt', '##ms', '##ne', '##ool', '##ose', '##rn', '##rs', '##ty', '##unt', '##way', '##yes', 'again', 'ask', 'does', 'last', 'leave', 'nothing', 'ready', 'say', 'speak', 'two', \"##'\", '##,', '##.', '##?', '##c', '##h', '##i', '##j', '##q', '##u', '##v', '##x', '##z']\n",
            "Spanish Tokens:  ['[PAD]', '[UNK]', '[START]', '[END]', ',', '.', '?', 'a', 'b', 'c', 'd', 'e', 'f', 'g', 'h', 'i', 'j', 'k', 'l', 'm', 'n', 'o', 'p', 'r', 's', 't', 'u', 'v', 'y', 'z', 'ą', 'č', 'ė', 'ę', 'į', 'š', 'ū', 'ų', 'ž', 'aš', '##s', 'tomas', '##i', '##ti', 'ar', 'yra', 'tai', '##u', '##k', '##o', 'jis', 'tu', '##ų', 'kad', '##us', '##me', '##te', 'man', 'mano', '##e', '##tą', 'ji', '##tas', '##au', 'mes', '##ą', '##ė', 'ir', 'ką', 'su', '##ai', '##jo', '##je', '##mą', '##ęs', 'buvo', '##a', '##ta', '##ja', 'jie', '##mas', 'kaip', '##as', 'labai', 'savo', '##iau', '##iu', '##ko', '##na', '##tų', '##čiau', 'ne', 'už', '##į', 'esu', 'jūs', '##is', '##kas', 'kas', '##kite', '##si', 'tomo', 'tau', 'tavo', 'gali', 'turiu', '##ką', '##no', '##t', 'iš', 'nėra', '##ma', '##ę', 'kur', 'taip', '##nis', '##to', 'jo', 'turi', '##io', '##kti', '##m', '##tu', '##yje', 'tik', 'to', '##os', 'nieko', 'per', '##da', '##ją', '##nių', '##rė', '##tė', '##tį', '##yti', 'dabar', 'daug', 'mane', 'nors', 'čia', 'šiandien', '##do', '##ieną', '##nas', '##ną', '##ras', '##tai', '##tyti', '##čių', '##ėjo', 'būti', 'jį', 'niekada', 'nori', '##dė', '##gus', '##ks', '##lį', '##nt', '##nė', '##yk', '##ėti', 'dar', 'negaliu', 'tomui', '##go', '##iai', '##mo', 'apie', 'buvau', 'kai', 'kiek', 'patinka', 'prašau', '##ba', '##ei', '##imi', '##ią', '##jau', '##ki', '##mis', '##ngas', '##nti', '##ra', '##sti', '##ys', 'galiu', 'ko', 'mūsų', '##ame', '##ga', '##ku', '##nos', '##rėjau', '##tę', 'bet', 'eiti', 'mums', 'negali', 'noriu', 'tave', '##daryti', '##dyti', '##gi', '##gą', '##ia', '##iena', '##jas', '##l', '##mų', '##nka', '##nės', '##nį', '##tis', 'daugiau', 'esi', 'jau', 'ją', 'kodėl', '##akė', '##dą', '##es', '##ienas', '##ina', '##jos', '##kyti', '##lbėti', '##lio', '##mai', '##nu', '##riu', '##rėjo', '##siu', '##ės', 'jei', 'jums', 'kada', 'niekas', 'visada', 'visi', '##am', '##das', '##eikia', '##esą', '##g', '##gų', '##ka', '##kai', '##kus', '##lis', '##lė', '##nga', '##nio', '##nę', '##ri', '##rą', '##ties', '##uo', '##ėjau', 'darbo', 'gerai', 'gyventi', 'nebuvo', 'nuo', 'tavęs', 'šis', '##gė', '##ikti', '##iuosi', '##ių', '##joje', '##lbos', '##lo', '##ni', '##rį', '##sias', '##usi', '##vai', '##ėgstu', 'greitai', 'jūsų', 'merė', 'mėgsta', 'nesu', 'pinigų', 'viską', 'visą', '##,', '##.', '##?', '##b', '##c', '##d', '##f', '##h', '##j', '##n', '##p', '##r', '##v', '##y', '##z', '##č', '##š', '##ū', '##ž']\n"
          ]
        }
      ],
      "source": [
        "print(\"English Tokens: \", eng_vocab[0:1110])\n",
        "print(\"Spanish Tokens: \", spa_vocab[0:1110])"
      ]
    },
    {
      "cell_type": "markdown",
      "metadata": {
        "id": "f01G7Xb2tPVP"
      },
      "source": [
        "Now, let's define the tokenizers. We will configure the tokenizers with the\n",
        "the vocabularies trained above."
      ]
    },
    {
      "cell_type": "code",
      "execution_count": null,
      "metadata": {
        "id": "TdjDHXeYtPVP"
      },
      "outputs": [],
      "source": [
        "eng_tokenizer = keras_hub.tokenizers.WordPieceTokenizer(\n",
        "    ###vocabulary=eng_vocab, lowercase=False\n",
        "    vocabulary=eng_vocab, lowercase=False, sequence_length=40,\n",
        ")\n",
        "spa_tokenizer = keras_hub.tokenizers.WordPieceTokenizer(\n",
        "    vocabulary=spa_vocab, lowercase=False, sequence_length=40,\n",
        ")"
      ]
    },
    {
      "cell_type": "markdown",
      "metadata": {
        "id": "1Fn6kS3mtPVP"
      },
      "source": [
        "Let's try and tokenize a sample from our dataset! To verify whether the text has\n",
        "been tokenized correctly, we can also detokenize the list of tokens back to the\n",
        "original text."
      ]
    },
    {
      "cell_type": "code",
      "execution_count": null,
      "metadata": {
        "id": "b9q8mBA0tPVP",
        "outputId": "e6d6c513-22b4-4e62-b0b8-a4e553e5e6d5",
        "colab": {
          "base_uri": "https://localhost:8080/"
        }
      },
      "outputs": [
        {
          "output_type": "stream",
          "name": "stdout",
          "text": [
            "English sentence:  i'm taking pictures of the bridge.\n",
            "Tokens:  tf.Tensor(\n",
            "[ 16   4  20  27 179 199  23 294 292  55 215  37  56  34   9  75 197 132\n",
            "   6   0   0   0   0   0   0   0   0   0   0   0   0   0   0   0   0   0\n",
            "   0   0   0   0], shape=(40,), dtype=int32)\n",
            "Recovered text after detokenizing:  i ' m taking pictures of the bridge . [PAD] [PAD] [PAD] [PAD] [PAD] [PAD] [PAD] [PAD] [PAD] [PAD] [PAD] [PAD] [PAD] [PAD] [PAD] [PAD] [PAD] [PAD] [PAD] [PAD] [PAD]\n",
            "\n",
            "LT sentence:  aš darau tilto nuotraukas.\n",
            "Tokens:  tf.Tensor(\n",
            "[ 39 163  63  25  42 209 116 264 108 184  47  97   5   0   0   0   0   0\n",
            "   0   0   0   0   0   0   0   0   0   0   0   0   0   0   0   0   0   0\n",
            "   0   0   0   0], shape=(40,), dtype=int32)\n",
            "Recovered text after detokenizing:  aš darau tilto nuotraukas . [PAD] [PAD] [PAD] [PAD] [PAD] [PAD] [PAD] [PAD] [PAD] [PAD] [PAD] [PAD] [PAD] [PAD] [PAD] [PAD] [PAD] [PAD] [PAD] [PAD] [PAD] [PAD] [PAD] [PAD] [PAD] [PAD] [PAD]\n"
          ]
        }
      ],
      "source": [
        "eng_input_ex = text_pairs[0][0]\n",
        "eng_tokens_ex = eng_tokenizer.tokenize(eng_input_ex)\n",
        "print(\"English sentence: \", eng_input_ex)\n",
        "print(\"Tokens: \", eng_tokens_ex)\n",
        "print( \"Recovered text after detokenizing: \",  eng_tokenizer.detokenize(eng_tokens_ex),)\n",
        "\n",
        "print()\n",
        "\n",
        "spa_input_ex = text_pairs[0][1]\n",
        "spa_tokens_ex = spa_tokenizer.tokenize(spa_input_ex)\n",
        "print(\"LT sentence: \", spa_input_ex)\n",
        "print(\"Tokens: \", spa_tokens_ex)\n",
        "print(    \"Recovered text after detokenizing: \",    spa_tokenizer.detokenize(spa_tokens_ex),)"
      ]
    },
    {
      "cell_type": "markdown",
      "metadata": {
        "id": "ynuW23-EtPVP"
      },
      "source": [
        "## Format datasets\n",
        "\n",
        "Next, we'll format our datasets.\n",
        "\n",
        "At each training step, the model will seek to predict target words N+1 (and beyond)\n",
        "using the source sentence and the target words 0 to N.\n",
        "\n",
        "As such, the training dataset will yield a tuple `(inputs, targets)`, where:\n",
        "\n",
        "- `inputs` is a dictionary with the keys `encoder_inputs` and `decoder_inputs`.\n",
        "`encoder_inputs` is the tokenized source sentence and `decoder_inputs` is the target\n",
        "sentence \"so far\",\n",
        "that is to say, the words 0 to N used to predict word N+1 (and beyond) in the target\n",
        "sentence.\n",
        "- `target` is the target sentence offset by one step:\n",
        "it provides the next words in the target sentence -- what the model will try to predict.\n",
        "\n",
        "We will add special tokens, `\"[START]\"` and `\"[END]\"`, to the input Spanish\n",
        "sentence after tokenizing the text. We will also pad the input to a fixed length.\n",
        "This can be easily done using `keras_hub.layers.StartEndPacker`."
      ]
    },
    {
      "cell_type": "code",
      "execution_count": null,
      "metadata": {
        "id": "5KmkDHjmtPVQ"
      },
      "outputs": [],
      "source": [
        "\n",
        "def preprocess_batch(eng, spa):\n",
        "    batch_size = ops.shape(spa)[0]\n",
        "\n",
        "    eng = eng_tokenizer(eng)\n",
        "    spa = spa_tokenizer(spa)\n",
        "\n",
        "    # Pad `eng` to `MAX_SEQUENCE_LENGTH`.\n",
        "\n",
        "    eng_start_end_packer = keras_hub.layers.StartEndPacker(\n",
        "        sequence_length=MAX_SEQUENCE_LENGTH,\n",
        "        ###pad_value=eng_tokenizer.token_to_id(\"[PAD]\"),\n",
        "        pad_value=0,\n",
        "    )\n",
        "    eng = eng_start_end_packer(eng)\n",
        "\n",
        "    # Add special tokens (`\"[START]\"` and `\"[END]\"`) to `spa` and pad it as well.\n",
        "    spa_start_end_packer = keras_hub.layers.StartEndPacker(\n",
        "        sequence_length=MAX_SEQUENCE_LENGTH + 1,\n",
        "        start_value=spa_tokenizer.token_to_id(\"[START]\"),\n",
        "        end_value=spa_tokenizer.token_to_id(\"[END]\"),\n",
        "        ###pad_value=spa_tokenizer.token_to_id(\"[PAD]\"),\n",
        "        pad_value=0,\n",
        "    )\n",
        "    spa = spa_start_end_packer(spa)\n",
        "\n",
        "    return (\n",
        "        {\n",
        "            \"encoder_inputs\": eng,\n",
        "            \"decoder_inputs\": spa[:, :-1],\n",
        "        },\n",
        "        spa[:, 1:],\n",
        "    )\n",
        "\n",
        "\n",
        "def make_dataset(pairs):\n",
        "    eng_texts, spa_texts = zip(*pairs)\n",
        "    eng_texts = list(eng_texts)\n",
        "    spa_texts = list(spa_texts)\n",
        "    dataset = tf_data.Dataset.from_tensor_slices((eng_texts, spa_texts))\n",
        "    dataset = dataset.batch(BATCH_SIZE)\n",
        "    dataset = dataset.map(preprocess_batch, num_parallel_calls=tf_data.AUTOTUNE)\n",
        "    return dataset.shuffle(2048).prefetch(16).cache()\n",
        "\n",
        "\n",
        "train_ds = make_dataset(train_pairs)\n",
        "val_ds = make_dataset(val_pairs)"
      ]
    },
    {
      "cell_type": "markdown",
      "metadata": {
        "id": "Q5g0SsOhtPVQ"
      },
      "source": [
        "Let's take a quick look at the sequence shapes\n",
        "(we have batches of 64 pairs, and all sequences are 40 steps long):"
      ]
    },
    {
      "cell_type": "code",
      "execution_count": null,
      "metadata": {
        "id": "tOvC150LtPVQ",
        "outputId": "4f561e24-b482-463a-cc4d-43606b0cb708",
        "colab": {
          "base_uri": "https://localhost:8080/"
        }
      },
      "outputs": [
        {
          "output_type": "stream",
          "name": "stdout",
          "text": [
            "inputs[\"encoder_inputs\"].shape: (64, 40)\n",
            "inputs[\"decoder_inputs\"].shape: (64, 40)\n",
            "targets.shape: (64, 40)\n"
          ]
        }
      ],
      "source": [
        "for inputs, targets in train_ds.take(1):\n",
        "    print(f'inputs[\"encoder_inputs\"].shape: {inputs[\"encoder_inputs\"].shape}')\n",
        "    print(f'inputs[\"decoder_inputs\"].shape: {inputs[\"decoder_inputs\"].shape}')\n",
        "    print(f\"targets.shape: {targets.shape}\")\n"
      ]
    },
    {
      "cell_type": "code",
      "source": [
        "print(inputs.get( 'encoder_inputs')[0])\n",
        "print(inputs.get( 'decoder_inputs')[0])\n",
        "print(targets[0])\n",
        "\n",
        "print(eng_tokenizer.detokenize(inputs.get( 'encoder_inputs')[0]))\n",
        "print(spa_tokenizer.detokenize(inputs.get( 'decoder_inputs')[0]))\n",
        "print(spa_tokenizer.detokenize(targets[0]))"
      ],
      "metadata": {
        "colab": {
          "base_uri": "https://localhost:8080/"
        },
        "id": "xHQERfH6vxqf",
        "outputId": "705a8ad7-92ec-469f-8290-21a5eb57cc99"
      },
      "execution_count": null,
      "outputs": [
        {
          "output_type": "stream",
          "name": "stdout",
          "text": [
            "tf.Tensor(\n",
            "[115  56  54  11  75 242 268  39  36 115 218 131  34   8 297  75 154 179\n",
            "   9 166 118 294  37   6   0   0   0   0   0   0   0   0   0   0   0   0\n",
            "   0   0   0   0], shape=(40,), dtype=int32)\n",
            "tf.Tensor(\n",
            "[  2  27 207  58  24 300  76  71 131 237 139  22 241  76 148  35  85 132\n",
            "  40  22  76 304 278  40 195   5   0   0   0   0   0   0   0   0   0   0\n",
            "   0   0   0   0], shape=(40,), dtype=int32)\n",
            "tf.Tensor(\n",
            "[ 27 207  58  24 300  76  71 131 237 139  22 241  76 148  35  85 132  40\n",
            "  22  76 304 278  40 195   5   0   0   0   0   0   0   0   0   0   0   0\n",
            "   0   0   0   3], shape=(40,), dtype=int32)\n",
            "one of my dreams is to one day see the aurora borealis . [PAD] [PAD] [PAD] [PAD] [PAD] [PAD] [PAD] [PAD] [PAD] [PAD] [PAD] [PAD] [PAD] [PAD] [PAD] [PAD]\n",
            "[START] viena mano svajonių kada nors pamatyti šiaurės pašvaistę . [PAD] [PAD] [PAD] [PAD] [PAD] [PAD] [PAD] [PAD] [PAD] [PAD] [PAD] [PAD] [PAD] [PAD]\n",
            "viena mano svajonių kada nors pamatyti šiaurės pašvaistę . [PAD] [PAD] [PAD] [PAD] [PAD] [PAD] [PAD] [PAD] [PAD] [PAD] [PAD] [PAD] [PAD] [PAD] [END]\n"
          ]
        }
      ]
    },
    {
      "cell_type": "markdown",
      "metadata": {
        "id": "7_NL4WCltPVQ"
      },
      "source": [
        "## Building the model\n",
        "\n",
        "Now, let's move on to the exciting part - defining our model!\n",
        "We first need an embedding layer, i.e., a vector for every token in our input sequence.\n",
        "This embedding layer can be initialised randomly. We also need a positional\n",
        "embedding layer which encodes the word order in the sequence. The convention is\n",
        "to add these two embeddings. KerasHub has a `keras_hub.layers.TokenAndPositionEmbedding `\n",
        "layer which does all of the above steps for us.\n",
        "\n",
        "Our sequence-to-sequence Transformer consists of a `keras_hub.layers.TransformerEncoder`\n",
        "layer and a `keras_hub.layers.TransformerDecoder` layer chained together.\n",
        "\n",
        "The source sequence will be passed to `keras_hub.layers.TransformerEncoder`, which\n",
        "will produce a new representation of it. This new representation will then be passed\n",
        "to the `keras_hub.layers.TransformerDecoder`, together with the target sequence\n",
        "so far (target words 0 to N). The `keras_hub.layers.TransformerDecoder` will\n",
        "then seek to predict the next words in the target sequence (N+1 and beyond).\n",
        "\n",
        "A key detail that makes this possible is causal masking.\n",
        "The `keras_hub.layers.TransformerDecoder` sees the entire sequence at once, and\n",
        "thus we must make sure that it only uses information from target tokens 0 to N\n",
        "when predicting token N+1 (otherwise, it could use information from the future,\n",
        "which would result in a model that cannot be used at inference time). Causal masking\n",
        "is enabled by default in `keras_hub.layers.TransformerDecoder`.\n",
        "\n",
        "We also need to mask the padding tokens (`\"[PAD]\"`). For this, we can set the\n",
        "`mask_zero` argument of the `keras_hub.layers.TokenAndPositionEmbedding` layer\n",
        "to True. This will then be propagated to all subsequent layers."
      ]
    },
    {
      "cell_type": "code",
      "execution_count": null,
      "metadata": {
        "id": "83IiO6fLtPVQ",
        "colab": {
          "base_uri": "https://localhost:8080/"
        },
        "outputId": "4682f0a4-fdf6-451f-ed0f-a4398d1ee669"
      },
      "outputs": [
        {
          "output_type": "stream",
          "name": "stderr",
          "text": [
            "/usr/local/lib/python3.10/dist-packages/keras/src/layers/layer.py:932: UserWarning: Layer 'functional' (of type Functional) was passed an input with a mask attached to it. However, this layer does not support masking and will therefore destroy the mask information. Downstream layers will not see the mask.\n",
            "  warnings.warn(\n"
          ]
        }
      ],
      "source": [
        "# Encoder\n",
        "encoder_inputs = keras.Input(shape=(None,), name=\"encoder_inputs\")\n",
        "\n",
        "x = keras_hub.layers.TokenAndPositionEmbedding(\n",
        "    vocabulary_size=ENG_VOCAB_SIZE,\n",
        "    sequence_length=MAX_SEQUENCE_LENGTH,\n",
        "    embedding_dim=EMBED_DIM,\n",
        "    mask_zero=True\n",
        ")(encoder_inputs)\n",
        "\n",
        "encoder_outputs = keras_hub.layers.TransformerEncoder(\n",
        "    intermediate_dim=INTERMEDIATE_DIM, num_heads=NUM_HEADS\n",
        ")(inputs=x)\n",
        "\n",
        "\n",
        "##encoder = keras.Model(encoder_inputs, encoder_outputs)\n",
        "\n",
        "\n",
        "# Decoder\n",
        "decoder_inputs = keras.Input(shape=(None,), name=\"decoder_inputs\")\n",
        "###encoded_seq_inputs = keras.Input(shape=(None, EMBED_DIM), name=\"decoder_state_inputs\")\n",
        "\n",
        "x = keras_hub.layers.TokenAndPositionEmbedding(\n",
        "    vocabulary_size=SPA_VOCAB_SIZE,\n",
        "    sequence_length=MAX_SEQUENCE_LENGTH,\n",
        "    embedding_dim=EMBED_DIM,\n",
        "    mask_zero=True\n",
        ")(decoder_inputs)\n",
        "\n",
        "x = keras_hub.layers.TransformerDecoder(\n",
        "    intermediate_dim=INTERMEDIATE_DIM, num_heads=NUM_HEADS\n",
        "###)(decoder_sequence=x, encoder_sequence=encoded_seq_inputs)\n",
        ")(decoder_sequence=x, encoder_sequence=encoder_outputs)\n",
        "\n",
        "x = keras.layers.Dropout(0.5)(x)\n",
        "\n",
        "decoder_outputs = keras.layers.Dense(SPA_VOCAB_SIZE, activation=\"softmax\")(x)\n",
        "decoder = keras.Model(\n",
        "    [\n",
        "        decoder_inputs,\n",
        "        ###encoded_seq_inputs,\n",
        "        encoder_outputs,\n",
        "    ],\n",
        "    decoder_outputs,\n",
        ")\n",
        "decoder_outputs = decoder([decoder_inputs, encoder_outputs])\n",
        "\n",
        "transformer = keras.Model(\n",
        "    [encoder_inputs, decoder_inputs],\n",
        "    decoder_outputs,\n",
        "    name=\"transformer\",\n",
        ")"
      ]
    },
    {
      "cell_type": "code",
      "source": [
        "if os.path.exists(\"/content/transformer_en_lt.keras\"):\n",
        "    transformer = keras.models.load_model(\"/content/transformer_en_lt.keras\")\n",
        "    print(\"The model exists.\")\n",
        "else:\n",
        "    transformer.compile( \"rmsprop\", loss=\"sparse_categorical_crossentropy\", metrics=[\"accuracy\"])\n",
        "    print(\"The model compiled.\")"
      ],
      "metadata": {
        "colab": {
          "base_uri": "https://localhost:8080/"
        },
        "id": "xHsK8XCNQ9Be",
        "outputId": "6cdfb2f7-5a95-4d29-f386-4ce0c7b78626"
      },
      "execution_count": null,
      "outputs": [
        {
          "output_type": "stream",
          "name": "stdout",
          "text": [
            "The model compiled.\n"
          ]
        }
      ]
    },
    {
      "cell_type": "markdown",
      "metadata": {
        "id": "gZEaB7JxtPVQ"
      },
      "source": [
        "## Training our model\n",
        "\n",
        "We'll use accuracy as a quick way to monitor training progress on the validation data.\n",
        "Note that machine translation typically uses BLEU scores as well as other metrics,\n",
        "rather than accuracy. However, in order to use metrics like ROUGE, BLEU, etc. we\n",
        "will have decode the probabilities and generate the text. Text generation is\n",
        "computationally expensive, and performing this during training is not recommended.\n",
        "\n",
        "Here we only train for 1 epoch, but to get the model to actually converge\n",
        "you should train for at least 10 epochs."
      ]
    },
    {
      "cell_type": "code",
      "execution_count": null,
      "metadata": {
        "id": "MFSFyNtDtPVQ",
        "outputId": "d9a1dd76-94d4-4200-88f0-9709edde2c6d",
        "colab": {
          "base_uri": "https://localhost:8080/",
          "height": 440
        }
      },
      "outputs": [
        {
          "output_type": "display_data",
          "data": {
            "text/plain": [
              "\u001b[1mModel: \"transformer\"\u001b[0m\n"
            ],
            "text/html": [
              "<pre style=\"white-space:pre;overflow-x:auto;line-height:normal;font-family:Menlo,'DejaVu Sans Mono',consolas,'Courier New',monospace\"><span style=\"font-weight: bold\">Model: \"transformer\"</span>\n",
              "</pre>\n"
            ]
          },
          "metadata": {}
        },
        {
          "output_type": "display_data",
          "data": {
            "text/plain": [
              "┏━━━━━━━━━━━━━━━━━━━━━━━━━━━┳━━━━━━━━━━━━━━━━━━━━━━━━┳━━━━━━━━━━━━━━━━┳━━━━━━━━━━━━━━━━━━━━━━━━┓\n",
              "┃\u001b[1m \u001b[0m\u001b[1mLayer (type)             \u001b[0m\u001b[1m \u001b[0m┃\u001b[1m \u001b[0m\u001b[1mOutput Shape          \u001b[0m\u001b[1m \u001b[0m┃\u001b[1m \u001b[0m\u001b[1m       Param #\u001b[0m\u001b[1m \u001b[0m┃\u001b[1m \u001b[0m\u001b[1mConnected to          \u001b[0m\u001b[1m \u001b[0m┃\n",
              "┡━━━━━━━━━━━━━━━━━━━━━━━━━━━╇━━━━━━━━━━━━━━━━━━━━━━━━╇━━━━━━━━━━━━━━━━╇━━━━━━━━━━━━━━━━━━━━━━━━┩\n",
              "│ encoder_inputs            │ (\u001b[38;5;45mNone\u001b[0m, \u001b[38;5;45mNone\u001b[0m)           │              \u001b[38;5;34m0\u001b[0m │ -                      │\n",
              "│ (\u001b[38;5;33mInputLayer\u001b[0m)              │                        │                │                        │\n",
              "├───────────────────────────┼────────────────────────┼────────────────┼────────────────────────┤\n",
              "│ token_and_position_embed… │ (\u001b[38;5;45mNone\u001b[0m, \u001b[38;5;45mNone\u001b[0m, \u001b[38;5;34m256\u001b[0m)      │      \u001b[38;5;34m3,850,240\u001b[0m │ encoder_inputs[\u001b[38;5;34m0\u001b[0m][\u001b[38;5;34m0\u001b[0m]   │\n",
              "│ (\u001b[38;5;33mTokenAndPositionEmbeddi…\u001b[0m │                        │                │                        │\n",
              "├───────────────────────────┼────────────────────────┼────────────────┼────────────────────────┤\n",
              "│ decoder_inputs            │ (\u001b[38;5;45mNone\u001b[0m, \u001b[38;5;45mNone\u001b[0m)           │              \u001b[38;5;34m0\u001b[0m │ -                      │\n",
              "│ (\u001b[38;5;33mInputLayer\u001b[0m)              │                        │                │                        │\n",
              "├───────────────────────────┼────────────────────────┼────────────────┼────────────────────────┤\n",
              "│ transformer_encoder       │ (\u001b[38;5;45mNone\u001b[0m, \u001b[38;5;45mNone\u001b[0m, \u001b[38;5;34m256\u001b[0m)      │      \u001b[38;5;34m1,315,072\u001b[0m │ token_and_position_em… │\n",
              "│ (\u001b[38;5;33mTransformerEncoder\u001b[0m)      │                        │                │                        │\n",
              "├───────────────────────────┼────────────────────────┼────────────────┼────────────────────────┤\n",
              "│ not_equal (\u001b[38;5;33mNotEqual\u001b[0m)      │ (\u001b[38;5;45mNone\u001b[0m, \u001b[38;5;45mNone\u001b[0m)           │              \u001b[38;5;34m0\u001b[0m │ encoder_inputs[\u001b[38;5;34m0\u001b[0m][\u001b[38;5;34m0\u001b[0m]   │\n",
              "├───────────────────────────┼────────────────────────┼────────────────┼────────────────────────┤\n",
              "│ functional (\u001b[38;5;33mFunctional\u001b[0m)   │ (\u001b[38;5;45mNone\u001b[0m, \u001b[38;5;45mNone\u001b[0m, \u001b[38;5;34m15000\u001b[0m)    │      \u001b[38;5;34m9,283,992\u001b[0m │ decoder_inputs[\u001b[38;5;34m1\u001b[0m][\u001b[38;5;34m0\u001b[0m],  │\n",
              "│                           │                        │                │ transformer_encoder[\u001b[38;5;34m0\u001b[0m… │\n",
              "│                           │                        │                │ not_equal[\u001b[38;5;34m0\u001b[0m][\u001b[38;5;34m0\u001b[0m]        │\n",
              "└───────────────────────────┴────────────────────────┴────────────────┴────────────────────────┘\n"
            ],
            "text/html": [
              "<pre style=\"white-space:pre;overflow-x:auto;line-height:normal;font-family:Menlo,'DejaVu Sans Mono',consolas,'Courier New',monospace\">┏━━━━━━━━━━━━━━━━━━━━━━━━━━━┳━━━━━━━━━━━━━━━━━━━━━━━━┳━━━━━━━━━━━━━━━━┳━━━━━━━━━━━━━━━━━━━━━━━━┓\n",
              "┃<span style=\"font-weight: bold\"> Layer (type)              </span>┃<span style=\"font-weight: bold\"> Output Shape           </span>┃<span style=\"font-weight: bold\">        Param # </span>┃<span style=\"font-weight: bold\"> Connected to           </span>┃\n",
              "┡━━━━━━━━━━━━━━━━━━━━━━━━━━━╇━━━━━━━━━━━━━━━━━━━━━━━━╇━━━━━━━━━━━━━━━━╇━━━━━━━━━━━━━━━━━━━━━━━━┩\n",
              "│ encoder_inputs            │ (<span style=\"color: #00d7ff; text-decoration-color: #00d7ff\">None</span>, <span style=\"color: #00d7ff; text-decoration-color: #00d7ff\">None</span>)           │              <span style=\"color: #00af00; text-decoration-color: #00af00\">0</span> │ -                      │\n",
              "│ (<span style=\"color: #0087ff; text-decoration-color: #0087ff\">InputLayer</span>)              │                        │                │                        │\n",
              "├───────────────────────────┼────────────────────────┼────────────────┼────────────────────────┤\n",
              "│ token_and_position_embed… │ (<span style=\"color: #00d7ff; text-decoration-color: #00d7ff\">None</span>, <span style=\"color: #00d7ff; text-decoration-color: #00d7ff\">None</span>, <span style=\"color: #00af00; text-decoration-color: #00af00\">256</span>)      │      <span style=\"color: #00af00; text-decoration-color: #00af00\">3,850,240</span> │ encoder_inputs[<span style=\"color: #00af00; text-decoration-color: #00af00\">0</span>][<span style=\"color: #00af00; text-decoration-color: #00af00\">0</span>]   │\n",
              "│ (<span style=\"color: #0087ff; text-decoration-color: #0087ff\">TokenAndPositionEmbeddi…</span> │                        │                │                        │\n",
              "├───────────────────────────┼────────────────────────┼────────────────┼────────────────────────┤\n",
              "│ decoder_inputs            │ (<span style=\"color: #00d7ff; text-decoration-color: #00d7ff\">None</span>, <span style=\"color: #00d7ff; text-decoration-color: #00d7ff\">None</span>)           │              <span style=\"color: #00af00; text-decoration-color: #00af00\">0</span> │ -                      │\n",
              "│ (<span style=\"color: #0087ff; text-decoration-color: #0087ff\">InputLayer</span>)              │                        │                │                        │\n",
              "├───────────────────────────┼────────────────────────┼────────────────┼────────────────────────┤\n",
              "│ transformer_encoder       │ (<span style=\"color: #00d7ff; text-decoration-color: #00d7ff\">None</span>, <span style=\"color: #00d7ff; text-decoration-color: #00d7ff\">None</span>, <span style=\"color: #00af00; text-decoration-color: #00af00\">256</span>)      │      <span style=\"color: #00af00; text-decoration-color: #00af00\">1,315,072</span> │ token_and_position_em… │\n",
              "│ (<span style=\"color: #0087ff; text-decoration-color: #0087ff\">TransformerEncoder</span>)      │                        │                │                        │\n",
              "├───────────────────────────┼────────────────────────┼────────────────┼────────────────────────┤\n",
              "│ not_equal (<span style=\"color: #0087ff; text-decoration-color: #0087ff\">NotEqual</span>)      │ (<span style=\"color: #00d7ff; text-decoration-color: #00d7ff\">None</span>, <span style=\"color: #00d7ff; text-decoration-color: #00d7ff\">None</span>)           │              <span style=\"color: #00af00; text-decoration-color: #00af00\">0</span> │ encoder_inputs[<span style=\"color: #00af00; text-decoration-color: #00af00\">0</span>][<span style=\"color: #00af00; text-decoration-color: #00af00\">0</span>]   │\n",
              "├───────────────────────────┼────────────────────────┼────────────────┼────────────────────────┤\n",
              "│ functional (<span style=\"color: #0087ff; text-decoration-color: #0087ff\">Functional</span>)   │ (<span style=\"color: #00d7ff; text-decoration-color: #00d7ff\">None</span>, <span style=\"color: #00d7ff; text-decoration-color: #00d7ff\">None</span>, <span style=\"color: #00af00; text-decoration-color: #00af00\">15000</span>)    │      <span style=\"color: #00af00; text-decoration-color: #00af00\">9,283,992</span> │ decoder_inputs[<span style=\"color: #00af00; text-decoration-color: #00af00\">1</span>][<span style=\"color: #00af00; text-decoration-color: #00af00\">0</span>],  │\n",
              "│                           │                        │                │ transformer_encoder[<span style=\"color: #00af00; text-decoration-color: #00af00\">0</span>… │\n",
              "│                           │                        │                │ not_equal[<span style=\"color: #00af00; text-decoration-color: #00af00\">0</span>][<span style=\"color: #00af00; text-decoration-color: #00af00\">0</span>]        │\n",
              "└───────────────────────────┴────────────────────────┴────────────────┴────────────────────────┘\n",
              "</pre>\n"
            ]
          },
          "metadata": {}
        },
        {
          "output_type": "display_data",
          "data": {
            "text/plain": [
              "\u001b[1m Total params: \u001b[0m\u001b[38;5;34m14,449,304\u001b[0m (55.12 MB)\n"
            ],
            "text/html": [
              "<pre style=\"white-space:pre;overflow-x:auto;line-height:normal;font-family:Menlo,'DejaVu Sans Mono',consolas,'Courier New',monospace\"><span style=\"font-weight: bold\"> Total params: </span><span style=\"color: #00af00; text-decoration-color: #00af00\">14,449,304</span> (55.12 MB)\n",
              "</pre>\n"
            ]
          },
          "metadata": {}
        },
        {
          "output_type": "display_data",
          "data": {
            "text/plain": [
              "\u001b[1m Trainable params: \u001b[0m\u001b[38;5;34m14,449,304\u001b[0m (55.12 MB)\n"
            ],
            "text/html": [
              "<pre style=\"white-space:pre;overflow-x:auto;line-height:normal;font-family:Menlo,'DejaVu Sans Mono',consolas,'Courier New',monospace\"><span style=\"font-weight: bold\"> Trainable params: </span><span style=\"color: #00af00; text-decoration-color: #00af00\">14,449,304</span> (55.12 MB)\n",
              "</pre>\n"
            ]
          },
          "metadata": {}
        },
        {
          "output_type": "display_data",
          "data": {
            "text/plain": [
              "\u001b[1m Non-trainable params: \u001b[0m\u001b[38;5;34m0\u001b[0m (0.00 B)\n"
            ],
            "text/html": [
              "<pre style=\"white-space:pre;overflow-x:auto;line-height:normal;font-family:Menlo,'DejaVu Sans Mono',consolas,'Courier New',monospace\"><span style=\"font-weight: bold\"> Non-trainable params: </span><span style=\"color: #00af00; text-decoration-color: #00af00\">0</span> (0.00 B)\n",
              "</pre>\n"
            ]
          },
          "metadata": {}
        }
      ],
      "source": [
        "\n",
        "\n",
        "\n",
        "transformer.summary()\n",
        "\n"
      ]
    },
    {
      "cell_type": "code",
      "source": [
        "#transformer.fit(train_ds, epochs=EPOCHS, validation_data=val_ds)\n",
        "transformer.fit(train_ds, epochs=10, validation_data=val_ds)"
      ],
      "metadata": {
        "id": "ZauE6XB02hTX",
        "outputId": "46bbe2e7-7921-4489-804e-6ca905d5ea27",
        "colab": {
          "base_uri": "https://localhost:8080/"
        }
      },
      "execution_count": null,
      "outputs": [
        {
          "output_type": "stream",
          "name": "stdout",
          "text": [
            "Epoch 1/10\n"
          ]
        },
        {
          "output_type": "stream",
          "name": "stderr",
          "text": [
            "/usr/local/lib/python3.10/dist-packages/keras/src/models/functional.py:225: UserWarning: The structure of `inputs` doesn't match the expected structure: ['encoder_inputs', 'decoder_inputs']. Received: the structure of inputs={'encoder_inputs': '*', 'decoder_inputs': '*'}\n",
            "  warnings.warn(\n",
            "/usr/local/lib/python3.10/dist-packages/keras/src/layers/layer.py:932: UserWarning: Layer 'position_embedding' (of type PositionEmbedding) was passed an input with a mask attached to it. However, this layer does not support masking and will therefore destroy the mask information. Downstream layers will not see the mask.\n",
            "  warnings.warn(\n",
            "/usr/local/lib/python3.10/dist-packages/keras/src/layers/layer.py:932: UserWarning: Layer 'query' (of type EinsumDense) was passed an input with a mask attached to it. However, this layer does not support masking and will therefore destroy the mask information. Downstream layers will not see the mask.\n",
            "  warnings.warn(\n",
            "/usr/local/lib/python3.10/dist-packages/keras/src/layers/layer.py:932: UserWarning: Layer 'key' (of type EinsumDense) was passed an input with a mask attached to it. However, this layer does not support masking and will therefore destroy the mask information. Downstream layers will not see the mask.\n",
            "  warnings.warn(\n",
            "/usr/local/lib/python3.10/dist-packages/keras/src/layers/layer.py:932: UserWarning: Layer 'value' (of type EinsumDense) was passed an input with a mask attached to it. However, this layer does not support masking and will therefore destroy the mask information. Downstream layers will not see the mask.\n",
            "  warnings.warn(\n"
          ]
        },
        {
          "output_type": "stream",
          "name": "stdout",
          "text": [
            "\u001b[1m25/25\u001b[0m \u001b[32m━━━━━━━━━━━━━━━━━━━━\u001b[0m\u001b[37m\u001b[0m \u001b[1m144s\u001b[0m 5s/step - accuracy: 0.1738 - loss: 7.8064 - val_accuracy: 0.1939 - val_loss: 5.0916\n",
            "Epoch 2/10\n",
            "\u001b[1m25/25\u001b[0m \u001b[32m━━━━━━━━━━━━━━━━━━━━\u001b[0m\u001b[37m\u001b[0m \u001b[1m134s\u001b[0m 5s/step - accuracy: 0.3768 - loss: 5.0405 - val_accuracy: 0.4730 - val_loss: 4.7512\n",
            "Epoch 3/10\n",
            "\u001b[1m25/25\u001b[0m \u001b[32m━━━━━━━━━━━━━━━━━━━━\u001b[0m\u001b[37m\u001b[0m \u001b[1m151s\u001b[0m 5s/step - accuracy: 0.4037 - loss: 4.7466 - val_accuracy: 0.3956 - val_loss: 4.5898\n",
            "Epoch 4/10\n",
            "\u001b[1m25/25\u001b[0m \u001b[32m━━━━━━━━━━━━━━━━━━━━\u001b[0m\u001b[37m\u001b[0m \u001b[1m137s\u001b[0m 6s/step - accuracy: 0.4334 - loss: 4.5840 - val_accuracy: 0.3018 - val_loss: 4.5250\n",
            "Epoch 5/10\n",
            "\u001b[1m25/25\u001b[0m \u001b[32m━━━━━━━━━━━━━━━━━━━━\u001b[0m\u001b[37m\u001b[0m \u001b[1m138s\u001b[0m 5s/step - accuracy: 0.4533 - loss: 4.4555 - val_accuracy: 0.3816 - val_loss: 4.4336\n",
            "Epoch 6/10\n",
            "\u001b[1m25/25\u001b[0m \u001b[32m━━━━━━━━━━━━━━━━━━━━\u001b[0m\u001b[37m\u001b[0m \u001b[1m130s\u001b[0m 5s/step - accuracy: 0.4741 - loss: 4.3185 - val_accuracy: 0.2939 - val_loss: 4.3228\n",
            "Epoch 7/10\n",
            "\u001b[1m25/25\u001b[0m \u001b[32m━━━━━━━━━━━━━━━━━━━━\u001b[0m\u001b[37m\u001b[0m \u001b[1m134s\u001b[0m 5s/step - accuracy: 0.4713 - loss: 4.0458 - val_accuracy: 0.6131 - val_loss: 3.3089\n",
            "Epoch 8/10\n",
            "\u001b[1m25/25\u001b[0m \u001b[32m━━━━━━━━━━━━━━━━━━━━\u001b[0m\u001b[37m\u001b[0m \u001b[1m150s\u001b[0m 6s/step - accuracy: 0.5523 - loss: 2.8094 - val_accuracy: 0.6324 - val_loss: 1.7048\n",
            "Epoch 9/10\n",
            "\u001b[1m25/25\u001b[0m \u001b[32m━━━━━━━━━━━━━━━━━━━━\u001b[0m\u001b[37m\u001b[0m \u001b[1m193s\u001b[0m 5s/step - accuracy: 0.6505 - loss: 1.4469 - val_accuracy: 0.7108 - val_loss: 0.7313\n",
            "Epoch 10/10\n",
            "\u001b[1m25/25\u001b[0m \u001b[32m━━━━━━━━━━━━━━━━━━━━\u001b[0m\u001b[37m\u001b[0m \u001b[1m133s\u001b[0m 5s/step - accuracy: 0.7504 - loss: 0.6137 - val_accuracy: 0.5889 - val_loss: 0.3888\n"
          ]
        },
        {
          "output_type": "execute_result",
          "data": {
            "text/plain": [
              "<keras.src.callbacks.history.History at 0x7c7d42dac880>"
            ]
          },
          "metadata": {},
          "execution_count": 24
        }
      ]
    },
    {
      "cell_type": "markdown",
      "metadata": {
        "id": "KJba7DFMtPVR"
      },
      "source": [
        "## Decoding test sentences (qualitative analysis)\n",
        "\n",
        "Finally, let's demonstrate how to translate brand new English sentences.\n",
        "We simply feed into the model the tokenized English sentence\n",
        "as well as the target token `\"[START]\"`. The model outputs probabilities of the\n",
        "next token. We then we repeatedly generated the next token conditioned on the\n",
        "tokens generated so far, until we hit the token `\"[END]\"`.\n",
        "\n",
        "For decoding, we will use the `keras_hub.samplers` module from\n",
        "KerasHub. Greedy Decoding is a text decoding method which outputs the most\n",
        "likely next token at each time step, i.e., the token with the highest probability."
      ]
    },
    {
      "cell_type": "code",
      "execution_count": null,
      "metadata": {
        "id": "hPbBxrRftPVR"
      },
      "outputs": [],
      "source": [
        "\n",
        "def decode_sequences(input_sentences):\n",
        "    batch_size = 1\n",
        "\n",
        "    # Tokenize the encoder input.\n",
        "    encoder_input_tokens = ops.convert_to_tensor(eng_tokenizer(input_sentences))\n",
        "    #print(eng_tokenizer(input_sentences))\n",
        "    #print(eng_tokenizer.detokenize(eng_tokenizer(input_sentences)))\n",
        "\n",
        "    # Define a function that outputs the next token's probability given the\n",
        "    # input sequence.\n",
        "    def next(prompt, cache, index):\n",
        "        logits = transformer([encoder_input_tokens, prompt])[:, index - 1, :]\n",
        "        # Ignore hidden states for now; only needed for contrastive search.\n",
        "        hidden_states = None\n",
        "        return logits, hidden_states, cache\n",
        "\n",
        "    # Build a prompt of length 40 with a start token and padding tokens.\n",
        "    length = 40\n",
        "    start = ops.full((batch_size, 1), spa_tokenizer.token_to_id(\"[START]\"), dtype=int)\n",
        "    #print(start)\n",
        "    ###pad = ops.full((batch_size, length - 1), spa_tokenizer.token_to_id(\"[PAD]\"))\n",
        "    pad = ops.full((batch_size, length - 1), spa_tokenizer.token_to_id(\"[PAD]\"), dtype=int)\n",
        "    prompt = ops.concatenate((start, pad), axis=-1)\n",
        "    print(prompt)\n",
        "\n",
        "    generated_tokens = keras_hub.samplers.GreedySampler()(\n",
        "        next,\n",
        "        prompt,\n",
        "        stop_token_ids=[spa_tokenizer.token_to_id(\"[END]\")],\n",
        "        index=1,  # Start sampling after start token.\n",
        "    )\n",
        "    generated_sentences = spa_tokenizer.detokenize(generated_tokens)\n",
        "    return generated_sentences\n",
        "\n",
        "\n",
        "\n"
      ]
    },
    {
      "cell_type": "code",
      "source": [
        "print(train_pairs[0][0])\n",
        "print(train_pairs[0][1])\n",
        "translated = decode_sequences([train_pairs[0][0]])\n",
        "print(translated)"
      ],
      "metadata": {
        "colab": {
          "base_uri": "https://localhost:8080/"
        },
        "id": "aL8D1NDwKfSx",
        "outputId": "875bf6b2-dbaf-45e3-9ef5-0577a8e9ca53"
      },
      "execution_count": null,
      "outputs": [
        {
          "output_type": "stream",
          "name": "stdout",
          "text": [
            "i'm taking pictures of the bridge.\n",
            "aš darau tilto nuotraukas.\n",
            "tf.Tensor(\n",
            "[[2 0 0 0 0 0 0 0 0 0 0 0 0 0 0 0 0 0 0 0 0 0 0 0 0 0 0 0 0 0 0 0 0 0 0 0\n",
            "  0 0 0 0]], shape=(1, 40), dtype=int64)\n",
            "['[START] , n vras negali rionme daugiaušte įč buvoiaurė ? [PAD]rė [PAD] , ? [PAD]rė [PAD]mekalė [PAD] v kiektą [PAD] p [PAD] ž [PAD]e']\n"
          ]
        }
      ]
    },
    {
      "cell_type": "code",
      "source": [
        "test_eng_texts = [pair[0] for pair in test_pairs]\n",
        "for i in range(5):\n",
        "    input_sentence = random.choice(test_eng_texts)\n",
        "    print(input_sentence)\n",
        "    translated = decode_sequences([input_sentence])\n",
        "    ##translated = translated.numpy()[0].decode(\"utf-8\")\n",
        "    translated = translated[0]\n",
        "    translated = (\n",
        "        translated.replace(\"[PAD]\", \"\") .replace(\"[START]\", \"\") .replace(\"[END]\", \"\") .strip()\n",
        "    )\n",
        "    print(f\"** Example {i} **\")\n",
        "    print(input_sentence)\n",
        "    print(translated)\n",
        "    print()"
      ],
      "metadata": {
        "colab": {
          "base_uri": "https://localhost:8080/"
        },
        "id": "NfgOuwpfKYyh",
        "outputId": "ccb51a59-c3ba-4710-9dbb-9a6270e15d13"
      },
      "execution_count": null,
      "outputs": [
        {
          "output_type": "stream",
          "name": "stdout",
          "text": [
            "come on. there's someone i want you to meet.\n",
            "tf.Tensor(\n",
            "[[2 0 0 0 0 0 0 0 0 0 0 0 0 0 0 0 0 0 0 0 0 0 0 0 0 0 0 0 0 0 0 0 0 0 0 0\n",
            "  0 0 0 0]], shape=(1, 40), dtype=int64)\n",
            "** Example 0 **\n",
            "come on. there's someone i want you to meet.\n",
            "ęs ? labai , nėra buvontit jai šasekti ?            štu\n",
            "\n",
            "it is love that rules the world.\n",
            "tf.Tensor(\n",
            "[[2 0 0 0 0 0 0 0 0 0 0 0 0 0 0 0 0 0 0 0 0 0 0 0 0 0 0 0 0 0 0 0 0 0 0 0\n",
            "  0 0 0 0]], shape=(1, 40), dtype=int64)\n",
            "** Example 1 **\n",
            "it is love that rules the world.\n",
            "ašba tai tnkiteja įni noriai ? aš              . tiu     į\n",
            "\n",
            "which one do you prefer?\n",
            "tf.Tensor(\n",
            "[[2 0 0 0 0 0 0 0 0 0 0 0 0 0 0 0 0 0 0 0 0 0 0 0 0 0 0 0 0 0 0 0 0 0 0 0\n",
            "  0 0 0 0]], shape=(1, 40), dtype=int64)\n",
            "** Example 2 **\n",
            "which one do you prefer?\n",
            "d jogk š r buvoųlu a d      u       a k a   ų\n",
            "\n",
            "too late.\n",
            "tf.Tensor(\n",
            "[[2 0 0 0 0 0 0 0 0 0 0 0 0 0 0 0 0 0 0 0 0 0 0 0 0 0 0 0 0 0 0 0 0 0 0 0\n",
            "  0 0 0 0]], shape=(1, 40), dtype=int64)\n",
            "** Example 3 **\n",
            "too late.\n",
            "mio ? ? ? ? ? mtą mkuku m      m   m         ?  m   m\n",
            "\n",
            "why won't he listen to me?\n",
            "tf.Tensor(\n",
            "[[2 0 0 0 0 0 0 0 0 0 0 0 0 0 0 0 0 0 0 0 0 0 0 0 0 0 0 0 0 0 0 0 0 0 0 0\n",
            "  0 0 0 0]], shape=(1, 40), dtype=int64)\n",
            "** Example 4 **\n",
            "why won't he listen to me?\n",
            "rė kaip , vti mngas suaie a m m v     su       , a v v  ž tomo\n",
            "\n"
          ]
        }
      ]
    },
    {
      "cell_type": "code",
      "source": [
        "transformer.save(\"/content/transformer_en_lt.keras\")"
      ],
      "metadata": {
        "id": "I3s2XtBbP5jY"
      },
      "execution_count": null,
      "outputs": []
    }
  ],
  "metadata": {
    "colab": {
      "provenance": [],
      "include_colab_link": true
    },
    "kernelspec": {
      "display_name": "Python 3",
      "name": "python3"
    },
    "language_info": {
      "codemirror_mode": {
        "name": "ipython",
        "version": 3
      },
      "file_extension": ".py",
      "mimetype": "text/x-python",
      "name": "python",
      "nbconvert_exporter": "python",
      "pygments_lexer": "ipython3",
      "version": "3.7.0"
    }
  },
  "nbformat": 4,
  "nbformat_minor": 0
}